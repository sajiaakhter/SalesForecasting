{
  "nbformat": 4,
  "nbformat_minor": 0,
  "metadata": {
    "colab": {
      "provenance": [],
      "authorship_tag": "ABX9TyNJ6t9cBs+uumV2zVcsRfks",
      "include_colab_link": true
    },
    "kernelspec": {
      "name": "python3",
      "display_name": "Python 3"
    },
    "language_info": {
      "name": "python"
    }
  },
  "cells": [
    {
      "cell_type": "markdown",
      "metadata": {
        "id": "view-in-github",
        "colab_type": "text"
      },
      "source": [
        "<a href=\"https://colab.research.google.com/github/sajiaakhter/SalesForecasting/blob/main/FutureSalesPredictionDeployment.ipynb\" target=\"_parent\"><img src=\"https://colab.research.google.com/assets/colab-badge.svg\" alt=\"Open In Colab\"/></a>"
      ]
    },
    {
      "cell_type": "markdown",
      "source": [
        "# **Install Libraries**"
      ],
      "metadata": {
        "id": "UVqDpFzVEGJg"
      }
    },
    {
      "cell_type": "code",
      "source": [
        "!pip install pyngrok\n",
        "!pip install flask_ngrok\n",
        "!pip install fastapi nest-asyncio pyngrok uvicorn\n",
        "\n",
        "!ngrok config add-authtoken 2QA3Fm4FDKI61sUnNtOJb51MTbS_3Lqp6mEx9bxPqMRm9ekY9"
      ],
      "metadata": {
        "id": "iMdRivaFEFKa"
      },
      "execution_count": null,
      "outputs": []
    },
    {
      "cell_type": "markdown",
      "source": [
        "# **Creating a data class**"
      ],
      "metadata": {
        "id": "2-je-DwiDrSU"
      }
    },
    {
      "cell_type": "code",
      "execution_count": 1,
      "metadata": {
        "id": "O9_gtkU7C9JB"
      },
      "outputs": [],
      "source": [
        "from pydantic import BaseModel\n",
        "\n",
        "class ShopItem(BaseModel):\n",
        "    shop_id: int \n",
        "    item_id: int \n",
        "    item_category_name: float \n",
        "    a0: float \n",
        "    a1: float \n",
        "    a2: float\n",
        "    a3: float\n",
        "    a4: float\n",
        "    a5: float\n",
        "    a6: float\n",
        "    a7: float\n",
        "    a8: float\n",
        "    a9: float\n",
        "    a10: float\n",
        "    a11: float\n",
        "    a12: float\n",
        "    a13: float\n",
        "    a14: float\n",
        "    a15: float\n",
        "    a16: float\n",
        "    a17: float\n",
        "    a18: float\n",
        "    a19: float\n",
        "    a20: float\n",
        "    a21: float\n",
        "    a22: float\n",
        "    a23: float\n",
        "    a24: float\n",
        "    a25: float\n",
        "    a26: float\n",
        "    a27: float\n",
        "    a28: float\n",
        "    a29: float\n",
        "    a30: float\n",
        "    a31: float\n",
        "    a32: float\n",
        "\n",
        "    class Config:\n",
        "        schema_extra = {\n",
        "            \"example\": {\n",
        "                \"shop_id\": 5, \n",
        "                \"item_id\": 5037,\n",
        "                \"item_category_name\": 19,\n",
        "                \"a0\": 0.391221,\n",
        "                \"a1\": 0.391221,\n",
        "                \"a2\": 0.01,\n",
        "                \"a3\": 0.796073,\n",
        "                \"a4\": 0.796073,\n",
        "                \"a5\": 0.796073,\n",
        "                \"a6\": 0.796073,\n",
        "                \"a7\": 0.796073,\n",
        "                \"a8\": 0.796073,\n",
        "                \"a9\": 0.796073,\n",
        "                \"a10\": 0.796073,\n",
        "                \"a11\": 0.796073,\n",
        "                \"a12\": 0.796073,\n",
        "                \"a13\": 0.796073,\n",
        "                \"a14\": 0.796073,\n",
        "                \"a15\": 0.796073,\n",
        "                \"a16\": 0.796073,\n",
        "                \"a17\": 0.796073,\n",
        "                \"a18\": 0.796073,\n",
        "                \"a19\": 0.796073,\n",
        "                \"a20\": 0.796073,\n",
        "                \"a21\": 0.796073,\n",
        "                \"a22\": 0.796073,\n",
        "                \"a23\": 0.796073,\n",
        "                \"a24\": 0.796073,\n",
        "                \"a25\": 0.796073,\n",
        "                \"a26\": 0.796073,\n",
        "                \"a27\": 0.796073,\n",
        "                \"a28\": 0.796073,\n",
        "                \"a29\": 0.796073,\n",
        "                \"a30\": 0.796073,\n",
        "                \"a31\": 0.796073,\n",
        "                \"a32\": 0.796073\n",
        "            }\n",
        "        }"
      ]
    },
    {
      "cell_type": "markdown",
      "source": [
        "# **The endpoint creation using FastAPI**"
      ],
      "metadata": {
        "id": "Q6VTViivDwWL"
      }
    },
    {
      "cell_type": "code",
      "source": [
        "from fastapi import FastAPI\n",
        "import pickle\n",
        "import xgboost as xgb\n",
        "import numpy as np\n",
        "\n",
        "app = FastAPI()\n",
        "\n",
        "@app.on_event(\"startup\")\n",
        "def load_model():\n",
        "    global model\n",
        "    model = pickle.load(open(\"/futureSalesXGBoost.pkl\", \"rb\"))\n",
        "\n",
        "@app.get('/')\n",
        "def index():\n",
        "    return {'message': 'This is the homepage of the Future Sales Prediction'}\n",
        "\n",
        "\n",
        "@app.post('/predict')\n",
        "def get_shopItem_category(data: ShopItem):\n",
        "    received = data.dict()\n",
        "    shop_id = received['shop_id']\n",
        "    item_id = received['item_id']\n",
        "    item_category_name = received['item_category_name']\n",
        "    a0 = received['a0'] \n",
        "    a1 = received['a1'] \n",
        "    a2 = received['a2'] \n",
        "    a3 = received['a3'] \n",
        "    a4 = received['a4'] \n",
        "    a5 = received['a5'] \n",
        "    a6 = received['a6'] \n",
        "    a7 = received['a7'] \n",
        "    a8 = received['a8'] \n",
        "    a9 = received['a9'] \n",
        "    a10 = received['a10'] \n",
        "    a11 = received['a11'] \n",
        "    a12 = received['a12'] \n",
        "    a13 = received['a13'] \n",
        "    a14 = received['a14'] \n",
        "    a15 = received['a15'] \n",
        "    a16 = received['a16'] \n",
        "    a17 = received['a17'] \n",
        "    a18 = received['a18'] \n",
        "    a19 = received['a19'] \n",
        "    a20 = received['a20'] \n",
        "    a21 = received['a21'] \n",
        "    a22 = received['a22'] \n",
        "    a23 = received['a23'] \n",
        "    a24 = received['a24'] \n",
        "    a25 = received['a25'] \n",
        "    a26 = received['a26'] \n",
        "    a27 = received['a27'] \n",
        "    a28 = received['a28'] \n",
        "    a29 = received['a29'] \n",
        "    a30 = received['a30'] \n",
        "    a31 = received['a31'] \n",
        "    a32 = received['a32'] \n",
        "    \n",
        "    testSet = np.array([shop_id,item_id,item_category_name,a0,a1,a2,a3,a4,a5,a6,a7,a8,a9,a10,a11,a12,a13,a14,a15,a16,a17,a18,a19,a20,a21,a22,a23,a24,a25,a26,a27,a28,a29,a30,a31,a32])\n",
        "    testSet = testSet.reshape(1,36)\n",
        "    testSetMat = xgb.DMatrix(testSet)\n",
        "    pred_name = model.predict(testSetMat).tolist()[0]\n",
        "    return {'prediction': pred_name}\n"
      ],
      "metadata": {
        "id": "Josyla3eDv40"
      },
      "execution_count": 13,
      "outputs": []
    },
    {
      "cell_type": "markdown",
      "source": [
        "# **Install ColabCode and Run Server**"
      ],
      "metadata": {
        "id": "X-IZCLYWEmQE"
      }
    },
    {
      "cell_type": "code",
      "source": [
        "!pip install colabcode"
      ],
      "metadata": {
        "id": "YVI4SNlvEuEn"
      },
      "execution_count": null,
      "outputs": []
    },
    {
      "cell_type": "code",
      "source": [
        "from colabcode import ColabCode\n",
        "server = ColabCode(port=10000, code=False)"
      ],
      "metadata": {
        "id": "Qb1RZkEGFH8W"
      },
      "execution_count": 6,
      "outputs": []
    },
    {
      "cell_type": "code",
      "source": [
        "server.run_app(app=app)"
      ],
      "metadata": {
        "id": "SKK9BdPXFIpT"
      },
      "execution_count": null,
      "outputs": []
    }
  ]
}